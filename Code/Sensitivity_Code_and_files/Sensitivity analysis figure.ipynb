{
 "cells": [
  {
   "cell_type": "markdown",
   "metadata": {},
   "source": [
    "# Sensitivity analysis figure\n"
   ]
  },
  {
   "cell_type": "code",
   "execution_count": null,
   "metadata": {},
   "outputs": [],
   "source": [
    "import os\n",
    "import pandas as pd\n",
    "import matplotlib.pyplot as plt\n",
    "import numpy as np\n",
    "\n",
    "# Path to the CSV files\n",
    "csv_path_ft = r'C:\\Users\\uqcmitsa\\OneDrive - The University of Queensland\\Desktop\\Sobol indices REsults\\sobol_indices_first_total.csv'\n",
    "csv_path_s2 = r'C:\\Users\\uqcmitsa\\OneDrive - The University of Queensland\\Desktop\\Sobol indices REsults\\sobol_indices_second_order.csv'\n",
    "\n",
    "# Extract directory from the first CSV file path\n",
    "save_dir = os.path.dirname(csv_path_ft)\n",
    "\n",
    "# ----- Load first-order and total-order indices -----\n",
    "df_ft = pd.read_csv(csv_path_ft)\n",
    "names = df_ft['Parameter'].tolist()\n",
    "S1 = df_ft['First-order Sobol index'].values\n",
    "ST = df_ft['Total-order Sobol index'].values\n",
    "\n",
    "# Plot First-order (S1) and Total-order (ST) indices\n",
    "plt.figure(figsize=(14, 7))\n",
    "bar_width = 0.35\n",
    "x = np.arange(len(names))\n",
    "\n",
    "plt.bar(x - bar_width / 2, S1, bar_width, label='First-order (S1)', alpha=0.7, color='b')\n",
    "plt.bar(x + bar_width / 2, ST, bar_width, label='Total-order (ST)', alpha=0.7, color='r')\n",
    "\n",
    "plt.xticks(x, names, rotation=90)\n",
    "plt.xlabel('Parameter')\n",
    "plt.ylabel('Sensitivity Index')\n",
    "plt.title('First-order (S1) and Total-order (ST) Sobol Indices')\n",
    "plt.legend()\n",
    "plt.tight_layout()\n",
    "\n",
    "# Save the first figure in the same folder as the input CSV file\n",
    "first_fig_path = os.path.join(save_dir, 'Sobol_indices_S1_ST.png')\n",
    "plt.savefig(first_fig_path)\n",
    "plt.show()\n",
    "\n",
    "# ----- Load second-order indices -----\n",
    "df_s2 = pd.read_csv(csv_path_s2)\n",
    "num_params = len(names)\n",
    "S2_flat = df_s2['Second-order Sobol index'].values\n",
    "S2_matrix = S2_flat.reshape((num_params, num_params))\n",
    "\n",
    "# Plot second-order indices as a heatmap\n",
    "plt.figure(figsize=(12, 10))\n",
    "plt.imshow(S2_matrix, cmap='coolwarm', interpolation='nearest')\n",
    "plt.colorbar(label='Second-order Sensitivity Index')\n",
    "plt.xticks(ticks=np.arange(num_params), labels=names, rotation=90)\n",
    "plt.yticks(ticks=np.arange(num_params), labels=names)\n",
    "plt.title('Second-order Sobol Indices (S2)')\n",
    "plt.xlabel('Parameter')\n",
    "plt.ylabel('Parameter')\n",
    "plt.tight_layout()\n",
    "\n",
    "# Save the second figure in the same folder as the input CSV file\n",
    "second_fig_path = os.path.join(save_dir, 'Sobol_indices_S2_heatmap.png')\n",
    "plt.savefig(second_fig_path)\n",
    "plt.show()\n"
   ]
  }
 ],
 "metadata": {
  "language_info": {
   "name": "python"
  }
 },
 "nbformat": 4,
 "nbformat_minor": 2
}
