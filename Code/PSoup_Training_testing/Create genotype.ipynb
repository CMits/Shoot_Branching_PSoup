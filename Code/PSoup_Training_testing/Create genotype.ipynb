{
 "cells": [
  {
   "cell_type": "code",
   "execution_count": 4,
   "id": "3e7c3599",
   "metadata": {},
   "outputs": [
    {
     "name": "stdout",
     "output_type": "stream",
     "text": [
      "Updated file saved to C:\\Users\\uqcmitsa\\OneDrive - The University of Queensland\\Desktop\\Paper\\Dataset\\Training\\M4\\updated_file.csv\n"
     ]
    }
   ],
   "source": [
    "import pandas as pd\n",
    "\n",
    "# Load the CSV file\n",
    "file_path = r'C:\\Users\\uqcmitsa\\OneDrive - The University of Queensland\\Desktop\\Paper\\Dataset\\Training\\M4\\Genotype_M4.csv'  # Replace with your file path\n",
    "df = pd.read_csv(file_path)\n",
    "\n",
    "# Get the list of genotypes\n",
    "genotypes = df['Genotypes']\n",
    "\n",
    "# Iterate over each genotype\n",
    "for idx, genotype in enumerate(genotypes):\n",
    "    # If the genotype is 'WT', set all values to 1\n",
    "    if genotype.strip() == \"WT\":\n",
    "        df.iloc[idx, 1:] = 1\n",
    "    else:\n",
    "        # Split the genotype on '+' and ',' to get individual components\n",
    "        components = [comp.strip() for comp in genotype.split(',') if '+' not in comp]\n",
    "\n",
    "        # Set values to 0 for the specified components\n",
    "        for col in df.columns[1:]:\n",
    "            if col in components:\n",
    "                df.at[idx, col] = 0\n",
    "            else:\n",
    "                # Fill the remaining columns with 1 if not already set\n",
    "                if pd.isna(df.at[idx, col]):  # Check if the cell is empty (NaN)\n",
    "                    df.at[idx, col] = 1\n",
    "\n",
    "# Save the updated dataframe to a new CSV\n",
    "output_file_path = r'C:\\Users\\uqcmitsa\\OneDrive - The University of Queensland\\Desktop\\Paper\\Dataset\\Training\\M4\\updated_file.csv'  # Replace with your desired output path\n",
    "df.to_csv(output_file_path, index=False)\n",
    "\n",
    "print(f\"Updated file saved to {output_file_path}\")\n"
   ]
  }
 ],
 "metadata": {
  "kernelspec": {
   "display_name": "Python 3 (ipykernel)",
   "language": "python",
   "name": "python3"
  },
  "language_info": {
   "codemirror_mode": {
    "name": "ipython",
    "version": 3
   },
   "file_extension": ".py",
   "mimetype": "text/x-python",
   "name": "python",
   "nbconvert_exporter": "python",
   "pygments_lexer": "ipython3",
   "version": "3.11.5"
  }
 },
 "nbformat": 4,
 "nbformat_minor": 5
}
